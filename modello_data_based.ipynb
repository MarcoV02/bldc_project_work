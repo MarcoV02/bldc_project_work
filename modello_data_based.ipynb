{
  "nbformat": 4,
  "nbformat_minor": 0,
  "metadata": {
    "colab": {
      "name": "modello_data_based.ipynb",
      "provenance": [],
      "authorship_tag": "ABX9TyOulNsVj7Ac0FUIFDIYSiWE",
      "include_colab_link": true
    },
    "kernelspec": {
      "name": "python3",
      "display_name": "Python 3"
    },
    "language_info": {
      "name": "python"
    }
  },
  "cells": [
    {
      "cell_type": "markdown",
      "metadata": {
        "id": "view-in-github",
        "colab_type": "text"
      },
      "source": [
        "<a href=\"https://colab.research.google.com/github/giuliovv/bldc_project_work/blob/master/modello_data_based.ipynb\" target=\"_parent\"><img src=\"https://colab.research.google.com/assets/colab-badge.svg\" alt=\"Open In Colab\"/></a>"
      ]
    },
    {
      "cell_type": "code",
      "metadata": {
        "id": "iE4CTiCmehD_"
      },
      "source": [
        "import base64\n",
        "import requests\n",
        "\n",
        "import matplotlib.pyplot as plt\n",
        "import numpy as np\n",
        "import pandas as pd"
      ],
      "execution_count": null,
      "outputs": []
    },
    {
      "cell_type": "code",
      "metadata": {
        "id": "oitttk82ueXO"
      },
      "source": [
        "def get_values_from_github(url_x, url_y):\n",
        "  X_read = requests.get(\"https://raw.githubusercontent.com/giuliovv/bldc_project_work/master/data/\" + url_x + \".csv\").text\n",
        "  Y_read = requests.get(\"https://raw.githubusercontent.com/giuliovv/bldc_project_work/master/data/\" + url_y + \".csv\").text\n",
        "\n",
        "  # Last value is empty\n",
        "  X = X_read.split(\"\\n\")[:-1]\n",
        "  Y = Y_read.split(\"\\n\")[:-1]\n",
        "\n",
        "  array = np.array([X, Y]).astype(\"float\")\n",
        "\n",
        "  df = pd.DataFrame(array.T, columns=[\"X\", \"Y\"])\n",
        "  \n",
        "  return df"
      ],
      "execution_count": null,
      "outputs": []
    },
    {
      "cell_type": "code",
      "metadata": {
        "id": "IvTZ3348ginX"
      },
      "source": [
        "df = get_values_from_github(\"input\", \"output\")\n",
        "df.head()"
      ],
      "execution_count": null,
      "outputs": []
    },
    {
      "cell_type": "code",
      "metadata": {
        "id": "TtFGWf3Kg8QA"
      },
      "source": [
        "df.plot()"
      ],
      "execution_count": null,
      "outputs": []
    },
    {
      "cell_type": "markdown",
      "metadata": {
        "id": "R5MOeJzpk_Ux"
      },
      "source": [
        "Una prima situazione interessante:"
      ]
    },
    {
      "cell_type": "code",
      "metadata": {
        "id": "tyVIE-HWk1-k"
      },
      "source": [
        "df.iloc[:int(4e3)].plot()"
      ],
      "execution_count": null,
      "outputs": []
    },
    {
      "cell_type": "markdown",
      "metadata": {
        "id": "MGpZF15slzmc"
      },
      "source": [
        "Taglio il primo salto a vuoto:"
      ]
    },
    {
      "cell_type": "code",
      "metadata": {
        "id": "QdE3EUdnrJN3"
      },
      "source": [
        "def cut_df(df, length):\n",
        "  return df.iloc[int(length):]"
      ],
      "execution_count": null,
      "outputs": []
    },
    {
      "cell_type": "code",
      "metadata": {
        "id": "3tDmr3qCltGH"
      },
      "source": [
        "cut_df(df, 4e3).plot()"
      ],
      "execution_count": null,
      "outputs": []
    },
    {
      "cell_type": "markdown",
      "metadata": {
        "id": "Dz1JjHeLo-EB"
      },
      "source": [
        "Pulizia disturbi:"
      ]
    },
    {
      "cell_type": "code",
      "metadata": {
        "id": "H_i96k-Br4bs"
      },
      "source": [
        "def clean_disturbances(df, roll_value):\n",
        "  return pd.concat([df_cut.X.rolling(roll_value).max(), df_cut.Y.rolling(roll_value).max()], axis=1)"
      ],
      "execution_count": null,
      "outputs": []
    },
    {
      "cell_type": "code",
      "metadata": {
        "id": "OmrEuq9boPTz"
      },
      "source": [
        "df_cleaned = clean_disturbances(df, 300)\n",
        "df_cleaned.plot()"
      ],
      "execution_count": null,
      "outputs": []
    },
    {
      "cell_type": "code",
      "metadata": {
        "id": "KWv5vOTPrkQy"
      },
      "source": [
        "def pipeline(df):\n",
        "  cutted = cut_df(df, 160e3)\n",
        "  cleaned = clean_disturbances(cutted, 300)\n",
        "  df_nona = cleaned.dropna()\n",
        "  X_np = df_nona.X.values.reshape(-1, 1)\n",
        "  Y_np = df_nona.Y.values\n",
        "  return X_np, Y_np"
      ],
      "execution_count": null,
      "outputs": []
    },
    {
      "cell_type": "code",
      "metadata": {
        "id": "9iA_Ayu5xXqC"
      },
      "source": [
        "x_plt, y_plt = pipeline(df)\n",
        "plt.plot([x_plt.reshape(-1), y_plt])"
      ],
      "execution_count": null,
      "outputs": []
    },
    {
      "cell_type": "markdown",
      "metadata": {
        "id": "oNcVBnK7ieNg"
      },
      "source": [
        "## Prova 1: Linear Regression"
      ]
    },
    {
      "cell_type": "code",
      "metadata": {
        "id": "9Z9MpmOYiZVd"
      },
      "source": [
        "from sklearn.linear_model import LinearRegression\n",
        "from sklearn.model_selection import train_test_split"
      ],
      "execution_count": null,
      "outputs": []
    },
    {
      "cell_type": "code",
      "metadata": {
        "id": "fBwb2t08kKJj"
      },
      "source": [
        "X, y = pipeline(df)\n",
        "X_train, X_test, y_train, y_test = train_test_split(X, y, test_size=0.33)"
      ],
      "execution_count": null,
      "outputs": []
    },
    {
      "cell_type": "code",
      "metadata": {
        "id": "zYkVaIEiiosH"
      },
      "source": [
        "reg = LinearRegression().fit(X_train, y_train)"
      ],
      "execution_count": null,
      "outputs": []
    },
    {
      "cell_type": "code",
      "metadata": {
        "id": "J7_NyVOYitWl"
      },
      "source": [
        "reg.score(X_test, y_test)"
      ],
      "execution_count": null,
      "outputs": []
    },
    {
      "cell_type": "code",
      "metadata": {
        "id": "3USisWF9mGny"
      },
      "source": [
        "reg.coef_"
      ],
      "execution_count": null,
      "outputs": []
    },
    {
      "cell_type": "code",
      "metadata": {
        "id": "ilidyqdhmTMZ"
      },
      "source": [
        "previsione = reg.predict(X[:200000])"
      ],
      "execution_count": null,
      "outputs": []
    },
    {
      "cell_type": "code",
      "metadata": {
        "id": "vfi_QF0Rmt2F"
      },
      "source": [
        "plt.plot(y[:200000])\n",
        "plt.plot(previsione)"
      ],
      "execution_count": null,
      "outputs": []
    },
    {
      "cell_type": "markdown",
      "metadata": {
        "id": "yqKrdtFdjXJE"
      },
      "source": [
        "Test "
      ]
    },
    {
      "cell_type": "code",
      "metadata": {
        "id": "_yf2SFVHrBby"
      },
      "source": [
        "df_test = get_values_from_github(\"input_test\", \"output_test\")\n",
        "X, y = pipeline(df_test)"
      ],
      "execution_count": null,
      "outputs": []
    },
    {
      "cell_type": "code",
      "metadata": {
        "id": "J6F3Fq3Hvk28"
      },
      "source": [
        "reg.score(X, y)"
      ],
      "execution_count": null,
      "outputs": []
    }
  ]
}