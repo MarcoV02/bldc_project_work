{
  "nbformat": 4,
  "nbformat_minor": 0,
  "metadata": {
    "colab": {
      "name": "modello_data_based.ipynb",
      "provenance": [],
      "collapsed_sections": [],
      "authorship_tag": "ABX9TyOKUbnaXB131kTlAZ4hJaUG",
      "include_colab_link": true
    },
    "kernelspec": {
      "name": "python3",
      "display_name": "Python 3"
    },
    "language_info": {
      "name": "python"
    }
  },
  "cells": [
    {
      "cell_type": "markdown",
      "metadata": {
        "id": "view-in-github",
        "colab_type": "text"
      },
      "source": [
        "<a href=\"https://colab.research.google.com/github/giuliovv/bldc_project_work/blob/master/modello_data_based.ipynb\" target=\"_parent\"><img src=\"https://colab.research.google.com/assets/colab-badge.svg\" alt=\"Open In Colab\"/></a>"
      ]
    },
    {
      "cell_type": "code",
      "metadata": {
        "id": "iE4CTiCmehD_"
      },
      "source": [
        "import base64\n",
        "import requests\n",
        "\n",
        "import matplotlib.pyplot as plt\n",
        "import numpy as np\n",
        "import pandas as pd"
      ],
      "execution_count": 53,
      "outputs": []
    },
    {
      "cell_type": "code",
      "metadata": {
        "id": "oitttk82ueXO"
      },
      "source": [
        "def get_values_from_github(url_x, url_y):\n",
        "  X_read = requests.get(\"https://raw.githubusercontent.com/giuliovv/bldc_project_work/master/data/\" + url_x + \".csv\").text\n",
        "  Y_read = requests.get(\"https://raw.githubusercontent.com/giuliovv/bldc_project_work/master/data/\" + url_y + \".csv\").text\n",
        "\n",
        "  # Last value is empty\n",
        "  X = X_read.split(\"\\n\")[:-1]\n",
        "  Y = Y_read.split(\"\\n\")[:-1]\n",
        "\n",
        "  array = np.array([X, Y]).astype(\"float\")\n",
        "\n",
        "  df = pd.DataFrame(array.T, columns=[\"X\", \"Y\"])\n",
        "  \n",
        "  return df"
      ],
      "execution_count": 54,
      "outputs": []
    },
    {
      "cell_type": "code",
      "metadata": {
        "colab": {
          "base_uri": "https://localhost:8080/",
          "height": 206
        },
        "id": "IvTZ3348ginX",
        "outputId": "cf3f3aec-1d8d-4780-ae22-1c37df15be8e"
      },
      "source": [
        "df = get_values_from_github(\"input\", \"output\")\n",
        "df.head()"
      ],
      "execution_count": 55,
      "outputs": [
        {
          "output_type": "execute_result",
          "data": {
            "text/html": [
              "<div>\n",
              "<style scoped>\n",
              "    .dataframe tbody tr th:only-of-type {\n",
              "        vertical-align: middle;\n",
              "    }\n",
              "\n",
              "    .dataframe tbody tr th {\n",
              "        vertical-align: top;\n",
              "    }\n",
              "\n",
              "    .dataframe thead th {\n",
              "        text-align: right;\n",
              "    }\n",
              "</style>\n",
              "<table border=\"1\" class=\"dataframe\">\n",
              "  <thead>\n",
              "    <tr style=\"text-align: right;\">\n",
              "      <th></th>\n",
              "      <th>X</th>\n",
              "      <th>Y</th>\n",
              "    </tr>\n",
              "  </thead>\n",
              "  <tbody>\n",
              "    <tr>\n",
              "      <th>0</th>\n",
              "      <td>0.000000e+00</td>\n",
              "      <td>0.000000</td>\n",
              "    </tr>\n",
              "    <tr>\n",
              "      <th>1</th>\n",
              "      <td>1.633300e-20</td>\n",
              "      <td>0.000022</td>\n",
              "    </tr>\n",
              "    <tr>\n",
              "      <th>2</th>\n",
              "      <td>8.166700e-20</td>\n",
              "      <td>0.000066</td>\n",
              "    </tr>\n",
              "    <tr>\n",
              "      <th>3</th>\n",
              "      <td>1.388300e-18</td>\n",
              "      <td>0.000288</td>\n",
              "    </tr>\n",
              "    <tr>\n",
              "      <th>4</th>\n",
              "      <td>3.242200e-17</td>\n",
              "      <td>0.001395</td>\n",
              "    </tr>\n",
              "  </tbody>\n",
              "</table>\n",
              "</div>"
            ],
            "text/plain": [
              "              X         Y\n",
              "0  0.000000e+00  0.000000\n",
              "1  1.633300e-20  0.000022\n",
              "2  8.166700e-20  0.000066\n",
              "3  1.388300e-18  0.000288\n",
              "4  3.242200e-17  0.001395"
            ]
          },
          "metadata": {},
          "execution_count": 55
        }
      ]
    },
    {
      "cell_type": "code",
      "metadata": {
        "colab": {
          "base_uri": "https://localhost:8080/",
          "height": 282
        },
        "id": "TtFGWf3Kg8QA",
        "outputId": "ab927dab-092d-4db8-f225-91a4f0629718"
      },
      "source": [
        "df.plot()"
      ],
      "execution_count": 56,
      "outputs": [
        {
          "output_type": "execute_result",
          "data": {
            "text/plain": [
              "<matplotlib.axes._subplots.AxesSubplot at 0x7ff261bf47d0>"
            ]
          },
          "metadata": {},
          "execution_count": 56
        },
        {
          "output_type": "display_data",
          "data": {
            "image/png": "[encoded data removed]",
            "text/plain": [
              "<Figure size 432x288 with 1 Axes>"
            ]
          },
          "metadata": {
            "needs_background": "light"
          }
        }
      ]
    },
    {
      "cell_type": "markdown",
      "metadata": {
        "id": "R5MOeJzpk_Ux"
      },
      "source": [
        "Una prima situazione interessante:"
      ]
    },
    {
      "cell_type": "code",
      "metadata": {
        "colab": {
          "base_uri": "https://localhost:8080/",
          "height": 282
        },
        "id": "tyVIE-HWk1-k",
        "outputId": "bec00809-eaa3-48cc-ca1c-608d1645c767"
      },
      "source": [
        "df.iloc[:int(4e3)].plot()"
      ],
      "execution_count": 57,
      "outputs": [
        {
          "output_type": "execute_result",
          "data": {
            "text/plain": [
              "<matplotlib.axes._subplots.AxesSubplot at 0x7ff261c14090>"
            ]
          },
          "metadata": {},
          "execution_count": 57
        },
        {
          "output_type": "display_data",
          "data": {
            "image/png": "[encoded data removed]",
            "text/plain": [
              "<Figure size 432x288 with 1 Axes>"
            ]
          },
          "metadata": {
            "needs_background": "light"
          }
        }
      ]
    },
    {
      "cell_type": "markdown",
      "metadata": {
        "id": "MGpZF15slzmc"
      },
      "source": [
        "Taglio il primo salto a vuoto:"
      ]
    },
    {
      "cell_type": "code",
      "metadata": {
        "id": "QdE3EUdnrJN3"
      },
      "source": [
        "def cut_df(df, length):\n",
        "  return df.iloc[int(length):]"
      ],
      "execution_count": 58,
      "outputs": []
    },
    {
      "cell_type": "code",
      "metadata": {
        "colab": {
          "base_uri": "https://localhost:8080/",
          "height": 284
        },
        "id": "3tDmr3qCltGH",
        "outputId": "43e750e1-d190-4ba2-9c60-85964321cc81"
      },
      "source": [
        "df_cut = cut_df(df, 4e3)\n",
        "df_cut.plot()"
      ],
      "execution_count": 59,
      "outputs": [
        {
          "output_type": "execute_result",
          "data": {
            "text/plain": [
              "<matplotlib.axes._subplots.AxesSubplot at 0x7ff261b6ab90>"
            ]
          },
          "metadata": {},
          "execution_count": 59
        },
        {
          "output_type": "display_data",
          "data": {
            "image/png": "[encoded data removed]",
            "text/plain": [
              "<Figure size 432x288 with 1 Axes>"
            ]
          },
          "metadata": {
            "needs_background": "light"
          }
        }
      ]
    },
    {
      "cell_type": "markdown",
      "metadata": {
        "id": "Dz1JjHeLo-EB"
      },
      "source": [
        "Pulizia disturbi:"
      ]
    },
    {
      "cell_type": "code",
      "metadata": {
        "id": "H_i96k-Br4bs"
      },
      "source": [
        "def clean_disturbances(df, roll_value):\n",
        "  return pd.concat([df.X.rolling(roll_value).max(), df.Y.rolling(roll_value).max()], axis=1)"
      ],
      "execution_count": 60,
      "outputs": []
    },
    {
      "cell_type": "code",
      "metadata": {
        "colab": {
          "base_uri": "https://localhost:8080/",
          "height": 285
        },
        "id": "OmrEuq9boPTz",
        "outputId": "1bd94849-7a80-47c5-9b57-06d9c26c8d78"
      },
      "source": [
        "df_cleaned = clean_disturbances(df_cut, 300)\n",
        "df_cleaned.plot()"
      ],
      "execution_count": 61,
      "outputs": [
        {
          "output_type": "execute_result",
          "data": {
            "text/plain": [
              "<matplotlib.axes._subplots.AxesSubplot at 0x7ff26022ce90>"
            ]
          },
          "metadata": {},
          "execution_count": 61
        },
        {
          "output_type": "display_data",
          "data": {
            "image/png": "[encoded data removed]",
            "text/plain": [
              "<Figure size 432x288 with 1 Axes>"
            ]
          },
          "metadata": {
            "needs_background": "light"
          }
        }
      ]
    },
    {
      "cell_type": "code",
      "metadata": {
        "id": "KWv5vOTPrkQy"
      },
      "source": [
        "def pipeline(df):\n",
        "  cutted = cut_df(df, 4e3)\n",
        "  cleaned = clean_disturbances(cutted, 300)\n",
        "  df_nona = cleaned.dropna()\n",
        "  X_np = df_nona.X.values.reshape(-1, 1)\n",
        "  Y_np = df_nona.Y.values\n",
        "  return X_np, Y_np"
      ],
      "execution_count": 62,
      "outputs": []
    },
    {
      "cell_type": "code",
      "metadata": {
        "colab": {
          "base_uri": "https://localhost:8080/",
          "height": 285
        },
        "id": "9iA_Ayu5xXqC",
        "outputId": "505e651a-9a1a-49c7-f8cc-764947038fda"
      },
      "source": [
        "x_plt, y_plt = pipeline(df)\n",
        "plt.plot(x_plt.reshape(-1))\n",
        "plt.plot(y_plt)"
      ],
      "execution_count": 63,
      "outputs": [
        {
          "output_type": "execute_result",
          "data": {
            "text/plain": [
              "[<matplotlib.lines.Line2D at 0x7ff261b75dd0>]"
            ]
          },
          "metadata": {},
          "execution_count": 63
        },
        {
          "output_type": "display_data",
          "data": {
            "image/png": "[encoded data removed]",
            "text/plain": [
              "<Figure size 432x288 with 1 Axes>"
            ]
          },
          "metadata": {
            "needs_background": "light"
          }
        }
      ]
    },
    {
      "cell_type": "markdown",
      "metadata": {
        "id": "oNcVBnK7ieNg"
      },
      "source": [
        "## Prova 1: Linear Regression"
      ]
    },
    {
      "cell_type": "code",
      "metadata": {
        "id": "9Z9MpmOYiZVd"
      },
      "source": [
        "from sklearn.linear_model import LinearRegression\n",
        "from sklearn.model_selection import train_test_split"
      ],
      "execution_count": 64,
      "outputs": []
    },
    {
      "cell_type": "code",
      "metadata": {
        "id": "fBwb2t08kKJj"
      },
      "source": [
        "X, y = pipeline(df)\n",
        "X_train, X_test, y_train, y_test = train_test_split(X, y, test_size=0.33)"
      ],
      "execution_count": 65,
      "outputs": []
    },
    {
      "cell_type": "code",
      "metadata": {
        "id": "zYkVaIEiiosH"
      },
      "source": [
        "reg = LinearRegression().fit(X_train, y_train)"
      ],
      "execution_count": 66,
      "outputs": []
    },
    {
      "cell_type": "code",
      "metadata": {
        "colab": {
          "base_uri": "https://localhost:8080/"
        },
        "id": "J7_NyVOYitWl",
        "outputId": "36a85dc8-3f13-4458-8397-ca272e6e4fa6"
      },
      "source": [
        "reg.score(X_test, y_test)"
      ],
      "execution_count": 67,
      "outputs": [
        {
          "output_type": "execute_result",
          "data": {
            "text/plain": [
              "0.9016510011361183"
            ]
          },
          "metadata": {},
          "execution_count": 67
        }
      ]
    },
    {
      "cell_type": "code",
      "metadata": {
        "colab": {
          "base_uri": "https://localhost:8080/"
        },
        "id": "3USisWF9mGny",
        "outputId": "39884c3a-fe89-48e6-c746-5798745b7b1a"
      },
      "source": [
        "reg.coef_"
      ],
      "execution_count": 68,
      "outputs": [
        {
          "output_type": "execute_result",
          "data": {
            "text/plain": [
              "array([0.34813449])"
            ]
          },
          "metadata": {},
          "execution_count": 68
        }
      ]
    },
    {
      "cell_type": "code",
      "metadata": {
        "id": "ilidyqdhmTMZ"
      },
      "source": [
        "previsione = reg.predict(X)"
      ],
      "execution_count": 69,
      "outputs": []
    },
    {
      "cell_type": "code",
      "metadata": {
        "colab": {
          "base_uri": "https://localhost:8080/",
          "height": 282
        },
        "id": "vfi_QF0Rmt2F",
        "outputId": "e42948fb-87d3-4d9a-94d6-afc734a2c90e"
      },
      "source": [
        "plt.plot(y)\n",
        "plt.plot(previsione)"
      ],
      "execution_count": 70,
      "outputs": [
        {
          "output_type": "execute_result",
          "data": {
            "text/plain": [
              "[<matplotlib.lines.Line2D at 0x7ff261ac4090>]"
            ]
          },
          "metadata": {},
          "execution_count": 70
        },
        {
          "output_type": "display_data",
          "data": {
            "image/png": "[encoded data removed]",
            "text/plain": [
              "<Figure size 432x288 with 1 Axes>"
            ]
          },
          "metadata": {
            "needs_background": "light"
          }
        }
      ]
    },
    {
      "cell_type": "markdown",
      "metadata": {
        "id": "yqKrdtFdjXJE"
      },
      "source": [
        "Test "
      ]
    },
    {
      "cell_type": "code",
      "metadata": {
        "id": "_yf2SFVHrBby"
      },
      "source": [
        "df_test = get_values_from_github(\"input_test\", \"output_test\")\n",
        "X, y = pipeline(df_test)"
      ],
      "execution_count": 71,
      "outputs": []
    },
    {
      "cell_type": "code",
      "metadata": {
        "colab": {
          "base_uri": "https://localhost:8080/"
        },
        "id": "J6F3Fq3Hvk28",
        "outputId": "6738fbb6-20f8-47e2-8320-bd071b09abdd"
      },
      "source": [
        "reg.score(X, y)"
      ],
      "execution_count": 72,
      "outputs": [
        {
          "output_type": "execute_result",
          "data": {
            "text/plain": [
              "0.8151081652044208"
            ]
          },
          "metadata": {},
          "execution_count": 72
        }
      ]
    },
    {
      "cell_type": "code",
      "metadata": {
        "id": "cc7KEa_qzVpg"
      },
      "source": [
        ""
      ],
      "execution_count": 72,
      "outputs": []
    }
  ]
}